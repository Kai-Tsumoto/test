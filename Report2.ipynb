{
  "nbformat": 4,
  "nbformat_minor": 0,
  "metadata": {
    "colab": {
      "name": "Report2.ipynb",
      "version": "0.3.2",
      "provenance": [],
      "include_colab_link": true
    },
    "kernelspec": {
      "name": "python3",
      "display_name": "Python 3"
    }
  },
  "cells": [
    {
      "cell_type": "markdown",
      "metadata": {
        "id": "view-in-github",
        "colab_type": "text"
      },
      "source": [
        "<a href=\"https://colab.research.google.com/github/Kai-Tsumoto/test/blob/master/Report2.ipynb\" target=\"_parent\"><img src=\"https://colab.research.google.com/assets/colab-badge.svg\" alt=\"Open In Colab\"/></a>"
      ]
    },
    {
      "cell_type": "code",
      "metadata": {
        "id": "Lxq3JzyEYTdM",
        "colab_type": "code",
        "colab": {}
      },
      "source": [
        ""
      ],
      "execution_count": 0,
      "outputs": []
    },
    {
      "cell_type": "code",
      "metadata": {
        "id": "LcrIt6tmX2IT",
        "colab_type": "code",
        "colab": {}
      },
      "source": [
        "%matplotlib inline\n",
        "import numpy as np\n",
        "from matplotlib import pyplot as plt"
      ],
      "execution_count": 0,
      "outputs": []
    },
    {
      "cell_type": "markdown",
      "metadata": {
        "id": "paaI7ZFYBit9",
        "colab_type": "text"
      },
      "source": [
        "演習課題⓪ ニューロン数Nと記憶パターン数p，Mを設定"
      ]
    },
    {
      "cell_type": "code",
      "metadata": {
        "id": "HtrfNXEBX2IX",
        "colab_type": "code",
        "colab": {
          "base_uri": "https://localhost:8080/",
          "height": 68
        },
        "outputId": "a0ab6902-9c9e-4450-fbab-6abb8a54a203"
      },
      "source": [
        "NUM_OVERLAP = 15\n",
        "\n",
        "# 0. define parameters\n",
        "N = 1000 # # of neurons\n",
        "P = 110  # # of loading patterns\n",
        "M = np.linspace(0.1, 1, num=NUM_OVERLAP) # initial overlap\n",
        "ITER = 20\n",
        "\n",
        "print(M)\n",
        "\n",
        "#オーダーパラメーターmsは，初期値の設定の変化する数NUM_OVERLAPとタイムステップITERの行列として設定\n",
        "ms2 = np.zeros((NUM_OVERLAP, ITER))\n"
      ],
      "execution_count": 39,
      "outputs": [
        {
          "output_type": "stream",
          "text": [
            "[0.1        0.16428571 0.22857143 0.29285714 0.35714286 0.42142857\n",
            " 0.48571429 0.55       0.61428571 0.67857143 0.74285714 0.80714286\n",
            " 0.87142857 0.93571429 1.        ]\n"
          ],
          "name": "stdout"
        }
      ]
    },
    {
      "cell_type": "markdown",
      "metadata": {
        "id": "bVshEz6g6tQT",
        "colab_type": "text"
      },
      "source": [
        "演習課題⑤ (演習課題①から④を用いて)"
      ]
    },
    {
      "cell_type": "code",
      "metadata": {
        "id": "B7a1AyWvX2IZ",
        "colab_type": "code",
        "colab": {}
      },
      "source": [
        "for i in range(NUM_OVERLAP):\n",
        "    ###①から④は同じ\n",
        "    ###③のところで初期値の設定(M)を変化させる。\n",
        "\n",
        "    ### ①　記憶パターンをランダムに発生\n",
        "    xi = np.random.randint(2, size=(P,N))\n",
        "    xi[xi == 0] = -1\n",
        "\n",
        "    ### ②　相互作用を生成\n",
        "    J = np.dot(xi.T, xi) / N\n",
        "    J = J - np.diag(np.diag(J)) ##自分自身との結合強度は引いてゼロにする\n",
        "\n",
        "    ### ③　ニューロンの初期値を設定\n",
        "    ### Mをiによって変化させるようにする。\n",
        "    prb_x0 =  (1+M[i]*xi)/2 ##発火確率の設定 \n",
        "    filter_  = np.random.random(size=(P,N)) ##0から1まで値域をもつ1×Nの一様ランダム行列を生成 \n",
        "              ## filter_.shape: (1, N)\n",
        "    \n",
        "    ### 初期の発火状態x0を、prb_x0とfilter_との大小関係で設定する\n",
        "    x0 = np.zeros((P, N))  ## x0.shape: (1, N)\n",
        "    x0[prb_x0 >= filter_] = 1\n",
        "    x0[prb_x0 < filter_]  =  -1\n",
        "    x = x0.T  ## x.shape: (N, 1)\n",
        "\n",
        "    ### ④　ニューロンの更新と1番目の記憶パターンとのオーバーラップ\n",
        "    ###オーダーパラメーターmsを計算する\n",
        "    ##内積によって、オーダーパラメータの初期値を計算\n",
        "    ms2[i , 0]=((xi*x.T).sum())/(N*P)\n",
        "    ### ニューロンの状態の更新 \n",
        "    \n",
        "    t = 0\n",
        "    while t < ITER:\n",
        "        ### sgnの中身(input)の計算\n",
        "        input =   np.dot(J,x) ## (N, N) @ (N, 1) -> (N, 1)\n",
        "        \n",
        "        ### sgnをinputを入力として計算し、ニューロンの状態を更新\n",
        "        x[input >= 0] =1\n",
        "        x[input < 0]  = -1\n",
        "        \n",
        "        ###内積によって、オーダーパラメータの初期値を計算\n",
        "        ms2[i, t] = ((xi*x.T).sum())/(N*P)\n",
        "        t = t + 1"
      ],
      "execution_count": 0,
      "outputs": []
    },
    {
      "cell_type": "markdown",
      "metadata": {
        "id": "K-UZnf_Y6sd5",
        "colab_type": "text"
      },
      "source": [
        ""
      ]
    },
    {
      "cell_type": "code",
      "metadata": {
        "id": "nqCAk-tXX2Ib",
        "colab_type": "code",
        "outputId": "92d9df9e-ccd3-4f39-d240-d38b7184611c",
        "colab": {
          "base_uri": "https://localhost:8080/",
          "height": 287
        }
      },
      "source": [
        "## plot\n",
        "for i in range(NUM_OVERLAP):\n",
        "    plt.plot(ms2[i, :], color='gray', lw=1)\n",
        "    plt.xlabel('Time step $t$')\n",
        "    plt.ylabel('Overlap $m$')"
      ],
      "execution_count": 41,
      "outputs": [
        {
          "output_type": "display_data",
          "data": {
            "image/png": "[encoded data removed]",
            "text/plain": [
              "<Figure size 432x288 with 1 Axes>"
            ]
          },
          "metadata": {
            "tags": []
          }
        }
      ]
    },
    {
      "cell_type": "code",
      "metadata": {
        "id": "dxBsa4gdX2If",
        "colab_type": "code",
        "colab": {}
      },
      "source": [
        "# save csv file  \n",
        "# ファイルを保存\n",
        "np.savetxt('ms2.csv', ms2, delimiter=',')\n",
        "from google.colab import files\n",
        "files.download('ms2.csv')"
      ],
      "execution_count": 0,
      "outputs": []
    },
    {
      "cell_type": "code",
      "metadata": {
        "id": "du-zu20fiXk5",
        "colab_type": "code",
        "colab": {}
      },
      "source": [
        ""
      ],
      "execution_count": 0,
      "outputs": []
    }
  ]
}